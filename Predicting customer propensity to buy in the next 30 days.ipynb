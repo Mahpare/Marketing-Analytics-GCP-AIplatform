{
 "cells": [
  {
   "cell_type": "markdown",
   "metadata": {},
   "source": [
    "# Marketing Analytics whith Google Cloud Platform "
   ]
  },
  {
   "cell_type": "markdown",
   "metadata": {},
   "source": [
    "\n",
    "We use a propensity to purchase system to predict customers who are most likely to make a purchase, so that we can personalize communications with them. We can use online predictions to take real-time action based on user behavior on our website, or batch predictions to inform less time-sensitive communications like email.\n"
   ]
  },
  {
   "cell_type": "markdown",
   "metadata": {},
   "source": [
    "## Usecase: \n",
    "## Predicting customer propensity to buy in the next 30 days using BigQuery and AI Platform.\n",
    "\n",
    "The marketeer of the ​Google Merchandise Store​ wants to effectively target visitors of its ecommerce website using paid search. For this reason the marketeer wants to know which visitors, that visited its website on a certain day, are more likely to convert (buy something) in the next 30 days.\n",
    "\n",
    "The ecommerce store uses Google Analytics to track web visits on its ecommerce website. With the Google Analytics session data it has the availability of historical clickstream data of all its visitors, which includes previous visits, session duration, pageviews, device information, geographical information, transactions, etc. <br>\n",
    "\n",
    "In this use case, we implement a machine learning workflow: <br> <br>\n",
    "● Source the data from BigQuery <br>\n",
    "● Explore and prepare the data <br>\n",
    "● Code the models <br>\n",
    "● Train, evaluate and tune the models <br>\n",
    "● Select the best model <br>\n",
    "● Deploy the best trained model <br>\n",
    "● Get predictions from the model <br><br>\n",
    "\n"
   ]
  },
  {
   "cell_type": "code",
   "execution_count": null,
   "metadata": {},
   "outputs": [],
   "source": [
    "! pip install imblearn\n",
    "! pip install xgboost"
   ]
  },
  {
   "cell_type": "code",
   "execution_count": 245,
   "metadata": {},
   "outputs": [],
   "source": [
    "import pandas as pd\n",
    "import numpy as np \n",
    "from imblearn.under_sampling import RandomUnderSampler\n",
    "\n",
    "from sklearn.model_selection import train_test_split, GridSearchCV\n",
    "from sklearn.utils import shuffle\n",
    "from sklearn.ensemble import RandomForestClassifier\n",
    "from sklearn.metrics import confusion_matrix, roc_auc_score ,roc_curve, auc, fbeta_score, recall_score, precision_score,accuracy_score, average_precision_score\n",
    "\n",
    "import matplotlib.pyplot as plt\n",
    "import seaborn as sns\n",
    "from xgboost import XGBClassifier\n",
    "\n",
    "import time"
   ]
  },
  {
   "cell_type": "markdown",
   "metadata": {},
   "source": [
    "## Source data and data preparation\n",
    "\n",
    "Google Analytics data of ​Google Merchandise Store​ is available as a public bigquery data set. For this use case we create the input features and the target variable using this data.\n",
    "\n",
    "Bigquery dataset reference: bigquery-public-data:google_analytics_sample\n",
    "\n",
    "### Dataset information\n",
    "The dataset provides 12 months (August 2016 to August 2017) of obfuscated Google Analytics 360 data from the ​Google Merchandise Store​ , a real ecommerce store that sells Google-branded merchandise, in BigQuery. It’s a great way analyze business data \n",
    "\n",
    "\n",
    "The data is typical of what an ecommerce website would see and includes the following information: <br><br>\n",
    "● Traffic source data: information about where website visitors originate, including data about organic traffic, paid search traffic, and display traffic. <br>\n",
    "● Content data: information about the behavior of users on the site, such as URLs of pages that visitors look at, how they interact with content, etc.<br>\n",
    "● Transactional data: information about the transactions on the Google Merchandise Store website. <br><br>\n",
    "\n",
    "For more information see the ​Google Analytics Sample​ dataset description. <br>\n",
    "https://console.cloud.google.com/marketplace/product/obfuscated-ga360-data/obfuscated-ga360-data?filter=solution-type:dataset&q=google%20analytics%20sample&id=45f150ac-81d3-4796-9abf-d7a4f98eb4c6"
   ]
  },
  {
   "cell_type": "markdown",
   "metadata": {},
   "source": [
    "# Reading the data from BigQuery\n",
    "## Exploring Dataset\n",
    "\n",
    "we explore a part of the dataset to get familiar with its columns and datatypes.\n"
   ]
  },
  {
   "cell_type": "code",
   "execution_count": 246,
   "metadata": {},
   "outputs": [],
   "source": [
    "%%bigquery --project winged-tower-295515 firstday_df\n",
    "\n",
    "SELECT *\n",
    "FROM\n",
    "  `bigquery-public-data.google_analytics_sample.ga_sessions_20160801`"
   ]
  },
  {
   "cell_type": "code",
   "execution_count": 247,
   "metadata": {},
   "outputs": [
    {
     "name": "stdout",
     "output_type": "stream",
     "text": [
      "<class 'pandas.core.frame.DataFrame'>\n",
      "RangeIndex: 1711 entries, 0 to 1710\n",
      "Data columns (total 15 columns):\n",
      " #   Column                Non-Null Count  Dtype  \n",
      "---  ------                --------------  -----  \n",
      " 0   visitorId             0 non-null      float64\n",
      " 1   visitNumber           1711 non-null   int64  \n",
      " 2   visitId               1711 non-null   int64  \n",
      " 3   visitStartTime        1711 non-null   int64  \n",
      " 4   date                  1711 non-null   object \n",
      " 5   totals                1711 non-null   object \n",
      " 6   trafficSource         1711 non-null   object \n",
      " 7   device                1711 non-null   object \n",
      " 8   geoNetwork            1711 non-null   object \n",
      " 9   customDimensions      1711 non-null   object \n",
      " 10  hits                  1711 non-null   object \n",
      " 11  fullVisitorId         1711 non-null   object \n",
      " 12  userId                0 non-null      object \n",
      " 13  channelGrouping       1711 non-null   object \n",
      " 14  socialEngagementType  1711 non-null   object \n",
      "dtypes: float64(1), int64(3), object(11)\n",
      "memory usage: 200.6+ KB\n"
     ]
    }
   ],
   "source": [
    "firstday_df.info()"
   ]
  },
  {
   "cell_type": "code",
   "execution_count": 248,
   "metadata": {},
   "outputs": [
    {
     "data": {
      "text/html": [
       "<div>\n",
       "<style scoped>\n",
       "    .dataframe tbody tr th:only-of-type {\n",
       "        vertical-align: middle;\n",
       "    }\n",
       "\n",
       "    .dataframe tbody tr th {\n",
       "        vertical-align: top;\n",
       "    }\n",
       "\n",
       "    .dataframe thead th {\n",
       "        text-align: right;\n",
       "    }\n",
       "</style>\n",
       "<table border=\"1\" class=\"dataframe\">\n",
       "  <thead>\n",
       "    <tr style=\"text-align: right;\">\n",
       "      <th></th>\n",
       "      <th>visitorId</th>\n",
       "      <th>visitNumber</th>\n",
       "      <th>visitId</th>\n",
       "      <th>visitStartTime</th>\n",
       "      <th>date</th>\n",
       "      <th>totals</th>\n",
       "      <th>trafficSource</th>\n",
       "      <th>device</th>\n",
       "      <th>geoNetwork</th>\n",
       "      <th>customDimensions</th>\n",
       "      <th>hits</th>\n",
       "      <th>fullVisitorId</th>\n",
       "      <th>userId</th>\n",
       "      <th>channelGrouping</th>\n",
       "      <th>socialEngagementType</th>\n",
       "    </tr>\n",
       "  </thead>\n",
       "  <tbody>\n",
       "    <tr>\n",
       "      <th>0</th>\n",
       "      <td>NaN</td>\n",
       "      <td>1</td>\n",
       "      <td>1470117657</td>\n",
       "      <td>1470117657</td>\n",
       "      <td>20160801</td>\n",
       "      <td>{'visits': 1, 'hits': 3, 'pageviews': 3, 'time...</td>\n",
       "      <td>{'referralPath': '/yt/about/', 'campaign': '(n...</td>\n",
       "      <td>{'browser': 'Internet Explorer', 'browserVersi...</td>\n",
       "      <td>{'continent': 'Americas', 'subContinent': 'Nor...</td>\n",
       "      <td>[{'index': 4, 'value': 'North America'}]</td>\n",
       "      <td>[{'hitNumber': 1, 'time': 0, 'hour': 23, 'minu...</td>\n",
       "      <td>7194065619159478122</td>\n",
       "      <td>None</td>\n",
       "      <td>Social</td>\n",
       "      <td>Not Socially Engaged</td>\n",
       "    </tr>\n",
       "    <tr>\n",
       "      <th>1</th>\n",
       "      <td>NaN</td>\n",
       "      <td>151</td>\n",
       "      <td>1470083489</td>\n",
       "      <td>1470083489</td>\n",
       "      <td>20160801</td>\n",
       "      <td>{'visits': 1, 'hits': 3, 'pageviews': 3, 'time...</td>\n",
       "      <td>{'referralPath': '/yt/about/', 'campaign': '(n...</td>\n",
       "      <td>{'browser': 'Chrome', 'browserVersion': 'not a...</td>\n",
       "      <td>{'continent': 'Americas', 'subContinent': 'Nor...</td>\n",
       "      <td>[{'index': 4, 'value': 'North America'}]</td>\n",
       "      <td>[{'hitNumber': 1, 'time': 0, 'hour': 13, 'minu...</td>\n",
       "      <td>8159312408158297118</td>\n",
       "      <td>None</td>\n",
       "      <td>Social</td>\n",
       "      <td>Not Socially Engaged</td>\n",
       "    </tr>\n",
       "    <tr>\n",
       "      <th>2</th>\n",
       "      <td>NaN</td>\n",
       "      <td>1</td>\n",
       "      <td>1470052694</td>\n",
       "      <td>1470052694</td>\n",
       "      <td>20160801</td>\n",
       "      <td>{'visits': 1, 'hits': 4, 'pageviews': 3, 'time...</td>\n",
       "      <td>{'referralPath': '/yt/about/', 'campaign': '(n...</td>\n",
       "      <td>{'browser': 'Chrome', 'browserVersion': 'not a...</td>\n",
       "      <td>{'continent': 'Asia', 'subContinent': 'Southea...</td>\n",
       "      <td>[]</td>\n",
       "      <td>[{'hitNumber': 1, 'time': 0, 'hour': 4, 'minut...</td>\n",
       "      <td>9236304747882138291</td>\n",
       "      <td>None</td>\n",
       "      <td>Social</td>\n",
       "      <td>Not Socially Engaged</td>\n",
       "    </tr>\n",
       "  </tbody>\n",
       "</table>\n",
       "</div>"
      ],
      "text/plain": [
       "   visitorId  visitNumber     visitId  visitStartTime      date  \\\n",
       "0        NaN            1  1470117657      1470117657  20160801   \n",
       "1        NaN          151  1470083489      1470083489  20160801   \n",
       "2        NaN            1  1470052694      1470052694  20160801   \n",
       "\n",
       "                                              totals  \\\n",
       "0  {'visits': 1, 'hits': 3, 'pageviews': 3, 'time...   \n",
       "1  {'visits': 1, 'hits': 3, 'pageviews': 3, 'time...   \n",
       "2  {'visits': 1, 'hits': 4, 'pageviews': 3, 'time...   \n",
       "\n",
       "                                       trafficSource  \\\n",
       "0  {'referralPath': '/yt/about/', 'campaign': '(n...   \n",
       "1  {'referralPath': '/yt/about/', 'campaign': '(n...   \n",
       "2  {'referralPath': '/yt/about/', 'campaign': '(n...   \n",
       "\n",
       "                                              device  \\\n",
       "0  {'browser': 'Internet Explorer', 'browserVersi...   \n",
       "1  {'browser': 'Chrome', 'browserVersion': 'not a...   \n",
       "2  {'browser': 'Chrome', 'browserVersion': 'not a...   \n",
       "\n",
       "                                          geoNetwork  \\\n",
       "0  {'continent': 'Americas', 'subContinent': 'Nor...   \n",
       "1  {'continent': 'Americas', 'subContinent': 'Nor...   \n",
       "2  {'continent': 'Asia', 'subContinent': 'Southea...   \n",
       "\n",
       "                           customDimensions  \\\n",
       "0  [{'index': 4, 'value': 'North America'}]   \n",
       "1  [{'index': 4, 'value': 'North America'}]   \n",
       "2                                        []   \n",
       "\n",
       "                                                hits        fullVisitorId  \\\n",
       "0  [{'hitNumber': 1, 'time': 0, 'hour': 23, 'minu...  7194065619159478122   \n",
       "1  [{'hitNumber': 1, 'time': 0, 'hour': 13, 'minu...  8159312408158297118   \n",
       "2  [{'hitNumber': 1, 'time': 0, 'hour': 4, 'minut...  9236304747882138291   \n",
       "\n",
       "  userId channelGrouping  socialEngagementType  \n",
       "0   None          Social  Not Socially Engaged  \n",
       "1   None          Social  Not Socially Engaged  \n",
       "2   None          Social  Not Socially Engaged  "
      ]
     },
     "execution_count": 248,
     "metadata": {},
     "output_type": "execute_result"
    }
   ],
   "source": [
    "firstday_df.head(3)"
   ]
  },
  {
   "cell_type": "markdown",
   "metadata": {},
   "source": [
    "## Creating Input Features\n",
    "\n",
    "visitorId and userId are NAN, so we don't select them. There are some RECORDs in the dataset like: totals, trafficSource, device, geoNetwork, customDimensions, and hits. We explore their fields, their meaning,and their values, then we only select non-null fields that can be related to user purchase.\n",
    "\n",
    "## Creating the output or target label\n",
    "\n",
    "For defining the output label we need different columns. First, if a user has made a purchase on during his/her visit or not, which is shown by corresponding totals.transactions field. Then, we need fullVisitorId and visitStartTime to check if each customer has made a purchased in the next 30 days. To this end, we partition all the dataset based on fullVisitorId and order each partition based on visitStartTime in ascending way. Next, we consider a range of rows between current one and rows (visits) related to the next 30 days (30 days * 24 hours * 60 minutes * 60 seconds = 2592000). Then, we count the number of all purchases in that duration as total_purchases_next30days column. This column should be converted to a binary target label later.\n",
    "\n",
    "Afterwards we can use fullVisitorId and date columns to validate the target label.\n"
   ]
  },
  {
   "cell_type": "code",
   "execution_count": 249,
   "metadata": {},
   "outputs": [],
   "source": [
    "%%bigquery --project winged-tower-295515 sample_df\n",
    "\n",
    "SELECT\n",
    "  fullVisitorId, date, \n",
    "  visitStartTime, \n",
    "  visitNumber,\n",
    "  IF(totals.transactions IS NULL, 0, 1) AS purchase,  \n",
    "  \n",
    "  COUNTIF(IF(totals.transactions IS NULL, FALSE, TRUE))\n",
    "  OVER (\n",
    "    PARTITION BY fullVisitorId \n",
    "    ORDER BY visitStartTime\n",
    "    RANGE BETWEEN CURRENT ROW AND 2592000 FOLLOWING\n",
    "  ) AS total_purchases_next30days,\n",
    "  \n",
    "  IFNULL(totals.bounces, 0) AS bounces,\n",
    "  IFNULL(totals.hits, 0) AS hits,\n",
    "  IFNULL(totals.pageviews, 0) AS pageviews,\n",
    "  IFNULL(totals.timeOnSite, 0) AS time_on_site,\n",
    "  IFNULL(totals.visits, 0) AS visits_interaction,\n",
    "\n",
    "  device.isMobile AS is_mobile,\n",
    "  trafficSource.isTrueDirect AS is_source_direct,\n",
    "  IFNULL(geoNetwork.country, \"\") AS country,\n",
    "  channelGrouping\n",
    "\n",
    "\n",
    "FROM\n",
    "  `bigquery-public-data.google_analytics_sample.ga_sessions_*`\n",
    "WHERE\n",
    "  _TABLE_SUFFIX BETWEEN '20160801' AND '20161001'"
   ]
  },
  {
   "cell_type": "code",
   "execution_count": 250,
   "metadata": {},
   "outputs": [
    {
     "data": {
      "text/html": [
       "<div>\n",
       "<style scoped>\n",
       "    .dataframe tbody tr th:only-of-type {\n",
       "        vertical-align: middle;\n",
       "    }\n",
       "\n",
       "    .dataframe tbody tr th {\n",
       "        vertical-align: top;\n",
       "    }\n",
       "\n",
       "    .dataframe thead th {\n",
       "        text-align: right;\n",
       "    }\n",
       "</style>\n",
       "<table border=\"1\" class=\"dataframe\">\n",
       "  <thead>\n",
       "    <tr style=\"text-align: right;\">\n",
       "      <th></th>\n",
       "      <th>fullVisitorId</th>\n",
       "      <th>date</th>\n",
       "      <th>visitStartTime</th>\n",
       "      <th>visitNumber</th>\n",
       "      <th>purchase</th>\n",
       "      <th>total_purchases_next30days</th>\n",
       "      <th>bounces</th>\n",
       "      <th>hits</th>\n",
       "      <th>pageviews</th>\n",
       "      <th>time_on_site</th>\n",
       "      <th>visits_interaction</th>\n",
       "      <th>is_mobile</th>\n",
       "      <th>is_source_direct</th>\n",
       "      <th>country</th>\n",
       "      <th>channelGrouping</th>\n",
       "    </tr>\n",
       "  </thead>\n",
       "  <tbody>\n",
       "    <tr>\n",
       "      <th>0</th>\n",
       "      <td>0004880420457994269</td>\n",
       "      <td>20160825</td>\n",
       "      <td>1472169942</td>\n",
       "      <td>1</td>\n",
       "      <td>0</td>\n",
       "      <td>0</td>\n",
       "      <td>0</td>\n",
       "      <td>2</td>\n",
       "      <td>2</td>\n",
       "      <td>32</td>\n",
       "      <td>1</td>\n",
       "      <td>False</td>\n",
       "      <td>True</td>\n",
       "      <td>United States</td>\n",
       "      <td>Direct</td>\n",
       "    </tr>\n",
       "    <tr>\n",
       "      <th>1</th>\n",
       "      <td>0004880420457994269</td>\n",
       "      <td>20160914</td>\n",
       "      <td>1473887703</td>\n",
       "      <td>2</td>\n",
       "      <td>0</td>\n",
       "      <td>0</td>\n",
       "      <td>0</td>\n",
       "      <td>2</td>\n",
       "      <td>2</td>\n",
       "      <td>9</td>\n",
       "      <td>1</td>\n",
       "      <td>False</td>\n",
       "      <td>True</td>\n",
       "      <td>United States</td>\n",
       "      <td>Direct</td>\n",
       "    </tr>\n",
       "    <tr>\n",
       "      <th>2</th>\n",
       "      <td>0013232932172978597</td>\n",
       "      <td>20160902</td>\n",
       "      <td>1472839758</td>\n",
       "      <td>1</td>\n",
       "      <td>0</td>\n",
       "      <td>0</td>\n",
       "      <td>1</td>\n",
       "      <td>1</td>\n",
       "      <td>1</td>\n",
       "      <td>0</td>\n",
       "      <td>1</td>\n",
       "      <td>False</td>\n",
       "      <td>None</td>\n",
       "      <td>Turkey</td>\n",
       "      <td>Social</td>\n",
       "    </tr>\n",
       "    <tr>\n",
       "      <th>3</th>\n",
       "      <td>0032175980165826803</td>\n",
       "      <td>20160804</td>\n",
       "      <td>1470302496</td>\n",
       "      <td>1</td>\n",
       "      <td>0</td>\n",
       "      <td>0</td>\n",
       "      <td>0</td>\n",
       "      <td>2</td>\n",
       "      <td>2</td>\n",
       "      <td>35</td>\n",
       "      <td>1</td>\n",
       "      <td>False</td>\n",
       "      <td>None</td>\n",
       "      <td>Azerbaijan</td>\n",
       "      <td>Social</td>\n",
       "    </tr>\n",
       "    <tr>\n",
       "      <th>4</th>\n",
       "      <td>0036373064505192879</td>\n",
       "      <td>20160817</td>\n",
       "      <td>1471419836</td>\n",
       "      <td>1</td>\n",
       "      <td>0</td>\n",
       "      <td>0</td>\n",
       "      <td>1</td>\n",
       "      <td>1</td>\n",
       "      <td>1</td>\n",
       "      <td>0</td>\n",
       "      <td>1</td>\n",
       "      <td>False</td>\n",
       "      <td>None</td>\n",
       "      <td>United States</td>\n",
       "      <td>Social</td>\n",
       "    </tr>\n",
       "  </tbody>\n",
       "</table>\n",
       "</div>"
      ],
      "text/plain": [
       "         fullVisitorId      date  visitStartTime  visitNumber  purchase  \\\n",
       "0  0004880420457994269  20160825      1472169942            1         0   \n",
       "1  0004880420457994269  20160914      1473887703            2         0   \n",
       "2  0013232932172978597  20160902      1472839758            1         0   \n",
       "3  0032175980165826803  20160804      1470302496            1         0   \n",
       "4  0036373064505192879  20160817      1471419836            1         0   \n",
       "\n",
       "   total_purchases_next30days  bounces  hits  pageviews  time_on_site  \\\n",
       "0                           0        0     2          2            32   \n",
       "1                           0        0     2          2             9   \n",
       "2                           0        1     1          1             0   \n",
       "3                           0        0     2          2            35   \n",
       "4                           0        1     1          1             0   \n",
       "\n",
       "   visits_interaction  is_mobile is_source_direct        country  \\\n",
       "0                   1      False             True  United States   \n",
       "1                   1      False             True  United States   \n",
       "2                   1      False             None         Turkey   \n",
       "3                   1      False             None     Azerbaijan   \n",
       "4                   1      False             None  United States   \n",
       "\n",
       "  channelGrouping  \n",
       "0          Direct  \n",
       "1          Direct  \n",
       "2          Social  \n",
       "3          Social  \n",
       "4          Social  "
      ]
     },
     "execution_count": 250,
     "metadata": {},
     "output_type": "execute_result"
    }
   ],
   "source": [
    "sample_df.head()"
   ]
  },
  {
   "cell_type": "markdown",
   "metadata": {},
   "source": [
    "# Data Preprocessing\n",
    "Insert a new column for final binary label: whether a customer who visited the website on a certain day, convert (buy something) in the next 30 days or not."
   ]
  },
  {
   "cell_type": "code",
   "execution_count": 251,
   "metadata": {},
   "outputs": [
    {
     "data": {
      "text/plain": [
       "Index(['fullVisitorId', 'date', 'visitStartTime', 'visitNumber', 'purchase',\n",
       "       'total_purchases_next30days', 'bounces', 'label', 'hits', 'pageviews',\n",
       "       'time_on_site', 'visits_interaction', 'is_mobile', 'is_source_direct',\n",
       "       'country', 'channelGrouping'],\n",
       "      dtype='object')"
      ]
     },
     "execution_count": 251,
     "metadata": {},
     "output_type": "execute_result"
    }
   ],
   "source": [
    "label= sample_df['total_purchases_next30days']>0\n",
    "sample_df.insert(7,'label',label)\n",
    "sample_df.columns"
   ]
  },
  {
   "cell_type": "markdown",
   "metadata": {},
   "source": [
    "Find NAN values and the data type for each column."
   ]
  },
  {
   "cell_type": "code",
   "execution_count": 252,
   "metadata": {},
   "outputs": [
    {
     "data": {
      "text/html": [
       "<div>\n",
       "<style scoped>\n",
       "    .dataframe tbody tr th:only-of-type {\n",
       "        vertical-align: middle;\n",
       "    }\n",
       "\n",
       "    .dataframe tbody tr th {\n",
       "        vertical-align: top;\n",
       "    }\n",
       "\n",
       "    .dataframe thead th {\n",
       "        text-align: right;\n",
       "    }\n",
       "</style>\n",
       "<table border=\"1\" class=\"dataframe\">\n",
       "  <thead>\n",
       "    <tr style=\"text-align: right;\">\n",
       "      <th></th>\n",
       "      <th>fullVisitorId</th>\n",
       "      <th>date</th>\n",
       "      <th>visitStartTime</th>\n",
       "      <th>visitNumber</th>\n",
       "      <th>purchase</th>\n",
       "      <th>total_purchases_next30days</th>\n",
       "      <th>bounces</th>\n",
       "      <th>label</th>\n",
       "      <th>hits</th>\n",
       "      <th>pageviews</th>\n",
       "      <th>time_on_site</th>\n",
       "      <th>visits_interaction</th>\n",
       "      <th>is_mobile</th>\n",
       "      <th>is_source_direct</th>\n",
       "      <th>country</th>\n",
       "      <th>channelGrouping</th>\n",
       "    </tr>\n",
       "  </thead>\n",
       "  <tbody>\n",
       "    <tr>\n",
       "      <th>NAN count</th>\n",
       "      <td>0</td>\n",
       "      <td>0</td>\n",
       "      <td>0</td>\n",
       "      <td>0</td>\n",
       "      <td>0</td>\n",
       "      <td>0</td>\n",
       "      <td>0</td>\n",
       "      <td>0</td>\n",
       "      <td>0</td>\n",
       "      <td>0</td>\n",
       "      <td>0</td>\n",
       "      <td>0</td>\n",
       "      <td>0</td>\n",
       "      <td>104387</td>\n",
       "      <td>0</td>\n",
       "      <td>0</td>\n",
       "    </tr>\n",
       "    <tr>\n",
       "      <th>type</th>\n",
       "      <td>object</td>\n",
       "      <td>object</td>\n",
       "      <td>int64</td>\n",
       "      <td>int64</td>\n",
       "      <td>int64</td>\n",
       "      <td>int64</td>\n",
       "      <td>int64</td>\n",
       "      <td>bool</td>\n",
       "      <td>int64</td>\n",
       "      <td>int64</td>\n",
       "      <td>int64</td>\n",
       "      <td>int64</td>\n",
       "      <td>bool</td>\n",
       "      <td>object</td>\n",
       "      <td>object</td>\n",
       "      <td>object</td>\n",
       "    </tr>\n",
       "  </tbody>\n",
       "</table>\n",
       "</div>"
      ],
      "text/plain": [
       "          fullVisitorId    date visitStartTime visitNumber purchase  \\\n",
       "NAN count             0       0              0           0        0   \n",
       "type             object  object          int64       int64    int64   \n",
       "\n",
       "          total_purchases_next30days bounces label   hits pageviews  \\\n",
       "NAN count                          0       0     0      0         0   \n",
       "type                           int64   int64  bool  int64     int64   \n",
       "\n",
       "          time_on_site visits_interaction is_mobile is_source_direct country  \\\n",
       "NAN count            0                  0         0           104387       0   \n",
       "type             int64              int64      bool           object  object   \n",
       "\n",
       "          channelGrouping  \n",
       "NAN count               0  \n",
       "type               object  "
      ]
     },
     "execution_count": 252,
     "metadata": {},
     "output_type": "execute_result"
    }
   ],
   "source": [
    "summery_mat= pd.DataFrame()\n",
    "summery_mat['NAN count']= sample_df.isnull().sum()\n",
    "\n",
    "for col in sample_df.columns:\n",
    "    summery_mat.loc[col,'type']= sample_df[col].dtype\n",
    "summery_mat.T"
   ]
  },
  {
   "cell_type": "markdown",
   "metadata": {},
   "source": [
    "Replace NAN values with False."
   ]
  },
  {
   "cell_type": "code",
   "execution_count": 253,
   "metadata": {},
   "outputs": [
    {
     "data": {
      "text/plain": [
       "array([ True, False])"
      ]
     },
     "execution_count": 253,
     "metadata": {},
     "output_type": "execute_result"
    }
   ],
   "source": [
    "sample_df.is_source_direct.replace(to_replace= np.nan, value= False, inplace=True)\n",
    "sample_df.is_source_direct.unique()"
   ]
  },
  {
   "cell_type": "markdown",
   "metadata": {},
   "source": [
    "Convert categorical columns to dummies"
   ]
  },
  {
   "cell_type": "code",
   "execution_count": 254,
   "metadata": {},
   "outputs": [
    {
     "data": {
      "text/plain": [
       "array(['Direct', 'Social', 'Organic Search', 'Referral', 'Affiliates',\n",
       "       'Paid Search', 'Display', '(Other)'], dtype=object)"
      ]
     },
     "execution_count": 254,
     "metadata": {},
     "output_type": "execute_result"
    }
   ],
   "source": [
    "sample_df.channelGrouping.unique()"
   ]
  },
  {
   "cell_type": "code",
   "execution_count": 255,
   "metadata": {},
   "outputs": [
    {
     "data": {
      "text/plain": [
       "Social            50766\n",
       "Organic Search    50382\n",
       "Direct            21599\n",
       "Referral          17380\n",
       "Affiliates         3278\n",
       "Paid Search        3103\n",
       "Display             867\n",
       "(Other)               5\n",
       "Name: channelGrouping, dtype: int64"
      ]
     },
     "execution_count": 255,
     "metadata": {},
     "output_type": "execute_result"
    }
   ],
   "source": [
    "sample_df['channelGrouping'].value_counts()"
   ]
  },
  {
   "cell_type": "code",
   "execution_count": 256,
   "metadata": {},
   "outputs": [],
   "source": [
    "sample_df = pd.get_dummies(sample_df, columns=['channelGrouping'], prefix='channelGrouping_type')\n",
    "sample_df.drop(columns=['channelGrouping_type_(Other)'], inplace=True)"
   ]
  },
  {
   "cell_type": "markdown",
   "metadata": {},
   "source": [
    "# Highly Imbalanced Dataset?"
   ]
  },
  {
   "cell_type": "code",
   "execution_count": 257,
   "metadata": {},
   "outputs": [
    {
     "name": "stdout",
     "output_type": "stream",
     "text": [
      "negative class: 143032 \t 97.05% \n",
      "positive class: 4348 \t 2.95% \n"
     ]
    }
   ],
   "source": [
    "class_count_0, class_count_1= sample_df.label.value_counts()\n",
    "print(\"negative class: %d \\t %.2f%% \" %(class_count_0, round(class_count_0*100/len(sample_df), 2)))\n",
    "print(\"positive class: %d \\t %.2f%% \"%(class_count_1, round(class_count_1*100/len(sample_df), 2)))"
   ]
  },
  {
   "cell_type": "markdown",
   "metadata": {},
   "source": [
    "After preprocessing and cleansing, only 2.5% of all datapoints are from positive class. So, the class distribution is skewed, and the dataset is highly imbalanced. Classification of imbalanced datasets is one of the most challenging problems in the machine learning field. Because, it is hard for machine learning algorithms to learn a minority class with less than 1:10 ratio. Moreover, most of the standard and robust evaluation metrics like accuracy and F1-score become misleading and unreliable when classes are imbalanced. For instance, in our case, a no skill classifier that always predicts negative (majority) class, achieves roughly 97% accuracy while it predicts all positive datapoints incorrectly. So, the number of predicted true positives is zero, and consequently recall is zero too.\n",
    "\n",
    "# Split the data to trainset and testset\n",
    "\n",
    "We should split trainset and testset before balancing the trainset. It prevents information leakage.\n",
    "\n",
    "We split the dataset into train, validation, and test sets. The validation set is used during the model fitting to evaluate the loss and any metrics, however the model is not fit with this data. The test set is completely unused during the training phase and is only used at the end to evaluate how well the model generalizes to new data. This is especially important with imbalanced datasets where overfitting is a significant concern from the lack of training data.\n",
    "\n",
    "We hold out 20% of the preprocessed dataset as the test set. It is important to use a stratified splitting method to maintain the real distribution of the positive class in the test set."
   ]
  },
  {
   "cell_type": "code",
   "execution_count": 258,
   "metadata": {},
   "outputs": [],
   "source": [
    "y= sample_df['label']\n",
    "X= sample_df.drop(columns=['label','purchase','total_purchases_next30days','fullVisitorId','visitStartTime','date'], inplace=False)\n",
    "X_trainVal, X_test, y_trainVal, y_test = train_test_split(X, y, test_size=0.20, random_state=42, shuffle= True, stratify= y)"
   ]
  },
  {
   "cell_type": "markdown",
   "metadata": {},
   "source": [
    "# Make the trainset balanced: Undersampling its negative class"
   ]
  },
  {
   "cell_type": "code",
   "execution_count": 259,
   "metadata": {},
   "outputs": [],
   "source": [
    "# UnderSampling\n",
    "#from sklearn.utils import shuffle\n",
    "\n",
    "Xy_trainVal_unblc = pd.concat([X_trainVal, y_trainVal], axis = 1) \n",
    "Xy_trainVal_unblc.reset_index(inplace=True, drop=True) \n",
    "\n",
    "pos_index = Xy_trainVal_unblc[Xy_trainVal_unblc['label']==1].index\n",
    "positive_class= Xy_trainVal_unblc.iloc[pos_index].copy()\n",
    "pos_len = len(positive_class)\n",
    "#remove positives\n",
    "Xy_trainVal_unblc.drop(pos_index, inplace=True)\n",
    "neg_len = len(Xy_trainVal_unblc)\n",
    "\n",
    "neg_coefficient = 1 \n",
    "\n",
    "#Return a random sample of items from an axis of object.\n",
    "negative_class = Xy_trainVal_unblc.sample(n= pos_len, replace='False', random_state = 42)#.reset_index(drop=True)\n",
    "# balanced_df= pd.concat([positive_class, negative_class],ignore_index=True)\n",
    "\n",
    "Xy_trainVal_blc= pd.concat([positive_class, negative_class],ignore_index=True)\n",
    "\n",
    "# Just shuffling\n",
    "Xy_trainVal_blc = shuffle(Xy_trainVal_blc,  random_state=42)\n",
    "Xy_trainVal_blc = shuffle(Xy_trainVal_blc,  random_state=1)\n",
    "Xy_trainVal_blc = shuffle(Xy_trainVal_blc,  random_state=5)\n",
    "Xy_trainVal_blc = shuffle(Xy_trainVal_blc,  random_state=10)\n",
    "Xy_trainVal_blc.reset_index(inplace=True, drop=True) \n",
    "\n",
    "# class_count_0, class_count_1= Xy_trainVal_blc.label.value_counts() #equal classs counts\n",
    "# print( class_count_0, class_count_1)\n",
    "\n",
    "y_trainVal_blc = Xy_trainVal_blc['label'].copy()\n",
    "y_trainVal_blc = pd.DataFrame(y_trainVal_blc, columns=['label'])\n",
    "X_trainVal_blc = Xy_trainVal_blc.drop(columns=['label'], inplace=False)\n",
    "\n",
    "# X_trainVal_blc.head()"
   ]
  },
  {
   "cell_type": "code",
   "execution_count": 260,
   "metadata": {},
   "outputs": [
    {
     "data": {
      "text/plain": [
       "pandas.core.frame.DataFrame"
      ]
     },
     "execution_count": 260,
     "metadata": {},
     "output_type": "execute_result"
    }
   ],
   "source": [
    "type(y_trainVal_blc)"
   ]
  },
  {
   "cell_type": "code",
   "execution_count": 261,
   "metadata": {},
   "outputs": [],
   "source": [
    "# rus = RandomUnderSampler(random_state=42)\n",
    "# X_trainVal_rus, y_trainVal_rus = rus.fit_sample(X_trainVal, y_trainVal) # type: numpy.ndarray\n",
    "# print('balanced X_trainVal shape',X_trainVal_rus.shape)"
   ]
  },
  {
   "cell_type": "code",
   "execution_count": 262,
   "metadata": {},
   "outputs": [],
   "source": [
    "# # X_trainVal_rus type is numpy.ndarray. convert it to dataframe.\n",
    "# columns_label = X_trainVal.columns\n",
    "# X_trainVal_blc = pd.DataFrame(X_trainVal_rus, columns=columns_label)\n",
    "# y_trainVal_blc = pd.DataFrame(y_trainVal_rus, columns=['label'])\n",
    "# X_trainVal_blc.head()"
   ]
  },
  {
   "cell_type": "markdown",
   "metadata": {},
   "source": [
    "# Convert categorical 'country' column to dummies\n",
    "The majority of the countries have a few users who made a purchase. We just consider top 10% of countries -in the trainset- with the highest purchase counts and make dummy variables for them. The rest of countries are categorized as other.\n",
    "\n",
    "Then we create the same dummy variables for the testset."
   ]
  },
  {
   "cell_type": "code",
   "execution_count": 263,
   "metadata": {},
   "outputs": [
    {
     "data": {
      "text/plain": [
       "United States     4642\n",
       "India              152\n",
       "Turkey             141\n",
       "Canada             130\n",
       "United Kingdom     118\n",
       "                  ... \n",
       "Costa Rica           1\n",
       "Senegal              1\n",
       "Moldova              1\n",
       "Cambodia             1\n",
       "Laos                 1\n",
       "Name: country, Length: 114, dtype: int64"
      ]
     },
     "execution_count": 263,
     "metadata": {},
     "output_type": "execute_result"
    }
   ],
   "source": [
    "#list of all countries in the training set\n",
    "all_countries_array= X_trainVal_blc['country'].unique()\n",
    "all_countries = set(all_countries_array)\n",
    "X_trainVal_blc['country'].value_counts()"
   ]
  },
  {
   "cell_type": "code",
   "execution_count": 264,
   "metadata": {},
   "outputs": [
    {
     "name": "stderr",
     "output_type": "stream",
     "text": [
      "/opt/conda/lib/python3.7/site-packages/pandas/core/frame.py:4389: SettingWithCopyWarning: \n",
      "A value is trying to be set on a copy of a slice from a DataFrame\n",
      "\n",
      "See the caveats in the documentation: https://pandas.pydata.org/pandas-docs/stable/user_guide/indexing.html#returning-a-view-versus-a-copy\n",
      "  method=method,\n"
     ]
    }
   ],
   "source": [
    "# find the list of counrtries based on the number of users who have made a purchase in the next 30 days.\n",
    "purchased_countries = X_trainVal_blc[y_trainVal_blc['label']==1]['country'].value_counts()\n",
    "# purchased_countries is a seri type. we need its indices = countries' names \n",
    "\n",
    "# just top 10% countries: round(0.1*len(all_countries))\n",
    "top_countries_series = purchased_countries.index[0:round(0.1*len(all_countries))]\n",
    "top_countries = set(top_countries_series)\n",
    "\n",
    "#replace other countries in trainset\n",
    "other_countries_in_trainset = list(all_countries - top_countries)\n",
    "\n",
    "X_trainVal_blc.replace(to_replace= other_countries_in_trainset, value='others', inplace=True)\n",
    "\n",
    "#replace other countries in testset\n",
    "all_countries_array= X_test['country'].unique()\n",
    "all_countries_test = set(all_countries_array)\n",
    "other_countries_in_testset = list(all_countries_test - top_countries)\n",
    "\n",
    "X_test.replace(to_replace= other_countries_in_testset, value='others', inplace=True)\n"
   ]
  },
  {
   "cell_type": "markdown",
   "metadata": {},
   "source": [
    "Convert country columns to dummies in train and test"
   ]
  },
  {
   "cell_type": "code",
   "execution_count": 265,
   "metadata": {},
   "outputs": [],
   "source": [
    "X_trainVal_blc = pd.get_dummies(X_trainVal_blc, columns=['country'], prefix='country_is')\n",
    "X_trainVal_blc.drop(columns=['country_is_others'], inplace=True)\n",
    "\n",
    "X_test = pd.get_dummies(X_test, columns=['country'], prefix='country_is')\n",
    "X_test.drop(columns=['country_is_others'], inplace=True)"
   ]
  },
  {
   "cell_type": "code",
   "execution_count": 266,
   "metadata": {},
   "outputs": [
    {
     "data": {
      "text/html": [
       "<div>\n",
       "<style scoped>\n",
       "    .dataframe tbody tr th:only-of-type {\n",
       "        vertical-align: middle;\n",
       "    }\n",
       "\n",
       "    .dataframe tbody tr th {\n",
       "        vertical-align: top;\n",
       "    }\n",
       "\n",
       "    .dataframe thead th {\n",
       "        text-align: right;\n",
       "    }\n",
       "</style>\n",
       "<table border=\"1\" class=\"dataframe\">\n",
       "  <thead>\n",
       "    <tr style=\"text-align: right;\">\n",
       "      <th></th>\n",
       "      <th>visitNumber</th>\n",
       "      <th>bounces</th>\n",
       "      <th>hits</th>\n",
       "      <th>pageviews</th>\n",
       "      <th>time_on_site</th>\n",
       "      <th>visits_interaction</th>\n",
       "      <th>is_mobile</th>\n",
       "      <th>is_source_direct</th>\n",
       "      <th>channelGrouping_type_Affiliates</th>\n",
       "      <th>channelGrouping_type_Direct</th>\n",
       "      <th>...</th>\n",
       "      <th>country_is_Canada</th>\n",
       "      <th>country_is_Chile</th>\n",
       "      <th>country_is_Hong Kong</th>\n",
       "      <th>country_is_Indonesia</th>\n",
       "      <th>country_is_Japan</th>\n",
       "      <th>country_is_Singapore</th>\n",
       "      <th>country_is_Taiwan</th>\n",
       "      <th>country_is_Thailand</th>\n",
       "      <th>country_is_United States</th>\n",
       "      <th>country_is_Venezuela</th>\n",
       "    </tr>\n",
       "  </thead>\n",
       "  <tbody>\n",
       "    <tr>\n",
       "      <th>0</th>\n",
       "      <td>44</td>\n",
       "      <td>1</td>\n",
       "      <td>1</td>\n",
       "      <td>1</td>\n",
       "      <td>0</td>\n",
       "      <td>1</td>\n",
       "      <td>False</td>\n",
       "      <td>True</td>\n",
       "      <td>0</td>\n",
       "      <td>0</td>\n",
       "      <td>...</td>\n",
       "      <td>0</td>\n",
       "      <td>0</td>\n",
       "      <td>0</td>\n",
       "      <td>0</td>\n",
       "      <td>0</td>\n",
       "      <td>0</td>\n",
       "      <td>0</td>\n",
       "      <td>0</td>\n",
       "      <td>1</td>\n",
       "      <td>0</td>\n",
       "    </tr>\n",
       "    <tr>\n",
       "      <th>1</th>\n",
       "      <td>1</td>\n",
       "      <td>0</td>\n",
       "      <td>5</td>\n",
       "      <td>5</td>\n",
       "      <td>56</td>\n",
       "      <td>1</td>\n",
       "      <td>False</td>\n",
       "      <td>False</td>\n",
       "      <td>0</td>\n",
       "      <td>0</td>\n",
       "      <td>...</td>\n",
       "      <td>0</td>\n",
       "      <td>0</td>\n",
       "      <td>0</td>\n",
       "      <td>0</td>\n",
       "      <td>0</td>\n",
       "      <td>0</td>\n",
       "      <td>0</td>\n",
       "      <td>0</td>\n",
       "      <td>1</td>\n",
       "      <td>0</td>\n",
       "    </tr>\n",
       "    <tr>\n",
       "      <th>2</th>\n",
       "      <td>7</td>\n",
       "      <td>0</td>\n",
       "      <td>9</td>\n",
       "      <td>7</td>\n",
       "      <td>485</td>\n",
       "      <td>1</td>\n",
       "      <td>False</td>\n",
       "      <td>True</td>\n",
       "      <td>0</td>\n",
       "      <td>0</td>\n",
       "      <td>...</td>\n",
       "      <td>0</td>\n",
       "      <td>0</td>\n",
       "      <td>0</td>\n",
       "      <td>0</td>\n",
       "      <td>0</td>\n",
       "      <td>0</td>\n",
       "      <td>0</td>\n",
       "      <td>0</td>\n",
       "      <td>1</td>\n",
       "      <td>0</td>\n",
       "    </tr>\n",
       "    <tr>\n",
       "      <th>3</th>\n",
       "      <td>3</td>\n",
       "      <td>0</td>\n",
       "      <td>9</td>\n",
       "      <td>8</td>\n",
       "      <td>103</td>\n",
       "      <td>1</td>\n",
       "      <td>False</td>\n",
       "      <td>False</td>\n",
       "      <td>0</td>\n",
       "      <td>0</td>\n",
       "      <td>...</td>\n",
       "      <td>0</td>\n",
       "      <td>0</td>\n",
       "      <td>0</td>\n",
       "      <td>0</td>\n",
       "      <td>0</td>\n",
       "      <td>0</td>\n",
       "      <td>0</td>\n",
       "      <td>0</td>\n",
       "      <td>1</td>\n",
       "      <td>0</td>\n",
       "    </tr>\n",
       "    <tr>\n",
       "      <th>4</th>\n",
       "      <td>5</td>\n",
       "      <td>0</td>\n",
       "      <td>84</td>\n",
       "      <td>71</td>\n",
       "      <td>3550</td>\n",
       "      <td>1</td>\n",
       "      <td>False</td>\n",
       "      <td>True</td>\n",
       "      <td>0</td>\n",
       "      <td>0</td>\n",
       "      <td>...</td>\n",
       "      <td>0</td>\n",
       "      <td>0</td>\n",
       "      <td>0</td>\n",
       "      <td>0</td>\n",
       "      <td>0</td>\n",
       "      <td>0</td>\n",
       "      <td>0</td>\n",
       "      <td>0</td>\n",
       "      <td>1</td>\n",
       "      <td>0</td>\n",
       "    </tr>\n",
       "  </tbody>\n",
       "</table>\n",
       "<p>5 rows × 26 columns</p>\n",
       "</div>"
      ],
      "text/plain": [
       "   visitNumber  bounces  hits  pageviews  time_on_site  visits_interaction  \\\n",
       "0           44        1     1          1             0                   1   \n",
       "1            1        0     5          5            56                   1   \n",
       "2            7        0     9          7           485                   1   \n",
       "3            3        0     9          8           103                   1   \n",
       "4            5        0    84         71          3550                   1   \n",
       "\n",
       "   is_mobile  is_source_direct  channelGrouping_type_Affiliates  \\\n",
       "0      False              True                                0   \n",
       "1      False             False                                0   \n",
       "2      False              True                                0   \n",
       "3      False             False                                0   \n",
       "4      False              True                                0   \n",
       "\n",
       "   channelGrouping_type_Direct  ...  country_is_Canada  country_is_Chile  \\\n",
       "0                            0  ...                  0                 0   \n",
       "1                            0  ...                  0                 0   \n",
       "2                            0  ...                  0                 0   \n",
       "3                            0  ...                  0                 0   \n",
       "4                            0  ...                  0                 0   \n",
       "\n",
       "   country_is_Hong Kong  country_is_Indonesia  country_is_Japan  \\\n",
       "0                     0                     0                 0   \n",
       "1                     0                     0                 0   \n",
       "2                     0                     0                 0   \n",
       "3                     0                     0                 0   \n",
       "4                     0                     0                 0   \n",
       "\n",
       "   country_is_Singapore  country_is_Taiwan  country_is_Thailand  \\\n",
       "0                     0                  0                    0   \n",
       "1                     0                  0                    0   \n",
       "2                     0                  0                    0   \n",
       "3                     0                  0                    0   \n",
       "4                     0                  0                    0   \n",
       "\n",
       "   country_is_United States  country_is_Venezuela  \n",
       "0                         1                     0  \n",
       "1                         1                     0  \n",
       "2                         1                     0  \n",
       "3                         1                     0  \n",
       "4                         1                     0  \n",
       "\n",
       "[5 rows x 26 columns]"
      ]
     },
     "execution_count": 266,
     "metadata": {},
     "output_type": "execute_result"
    }
   ],
   "source": [
    "X_trainVal_blc.head()"
   ]
  },
  {
   "cell_type": "code",
   "execution_count": 267,
   "metadata": {},
   "outputs": [
    {
     "name": "stdout",
     "output_type": "stream",
     "text": [
      "<class 'pandas.core.frame.DataFrame'>\n",
      "RangeIndex: 6956 entries, 0 to 6955\n",
      "Data columns (total 26 columns):\n",
      " #   Column                               Non-Null Count  Dtype\n",
      "---  ------                               --------------  -----\n",
      " 0   visitNumber                          6956 non-null   int64\n",
      " 1   bounces                              6956 non-null   int64\n",
      " 2   hits                                 6956 non-null   int64\n",
      " 3   pageviews                            6956 non-null   int64\n",
      " 4   time_on_site                         6956 non-null   int64\n",
      " 5   visits_interaction                   6956 non-null   int64\n",
      " 6   is_mobile                            6956 non-null   int64\n",
      " 7   is_source_direct                     6956 non-null   int64\n",
      " 8   channelGrouping_type_Affiliates      6956 non-null   uint8\n",
      " 9   channelGrouping_type_Direct          6956 non-null   uint8\n",
      " 10  channelGrouping_type_Display         6956 non-null   uint8\n",
      " 11  channelGrouping_type_Organic Search  6956 non-null   uint8\n",
      " 12  channelGrouping_type_Paid Search     6956 non-null   uint8\n",
      " 13  channelGrouping_type_Referral        6956 non-null   uint8\n",
      " 14  channelGrouping_type_Social          6956 non-null   uint8\n",
      " 15  country_is_(not set)                 6956 non-null   uint8\n",
      " 16  country_is_Canada                    6956 non-null   uint8\n",
      " 17  country_is_Chile                     6956 non-null   uint8\n",
      " 18  country_is_Hong Kong                 6956 non-null   uint8\n",
      " 19  country_is_Indonesia                 6956 non-null   uint8\n",
      " 20  country_is_Japan                     6956 non-null   uint8\n",
      " 21  country_is_Singapore                 6956 non-null   uint8\n",
      " 22  country_is_Taiwan                    6956 non-null   uint8\n",
      " 23  country_is_Thailand                  6956 non-null   uint8\n",
      " 24  country_is_United States             6956 non-null   uint8\n",
      " 25  country_is_Venezuela                 6956 non-null   uint8\n",
      "dtypes: int64(8), uint8(18)\n",
      "memory usage: 557.1 KB\n"
     ]
    }
   ],
   "source": [
    "# Converting boolean to integer \n",
    "X_trainVal_blc['is_mobile'] = list(map(int, X_trainVal_blc['is_mobile'])) \n",
    "X_trainVal_blc['is_source_direct'] = list(map(int, X_trainVal_blc['is_source_direct'])) \n",
    "X_trainVal_blc.info()"
   ]
  },
  {
   "cell_type": "markdown",
   "metadata": {},
   "source": [
    "# Pearson correlation matrix heatmap for the data set\n",
    "We have a data set with many columns, a good way to quickly check correlations among columns is by visualizing the correlation matrix as a heatmap."
   ]
  },
  {
   "cell_type": "code",
   "execution_count": 268,
   "metadata": {},
   "outputs": [
    {
     "data": {
      "image/png": "[encoded data removed]",
      "text/plain": [
       "<Figure size 432x288 with 2 Axes>"
      ]
     },
     "metadata": {
      "needs_background": "light"
     },
     "output_type": "display_data"
    }
   ],
   "source": [
    "corr = X_trainVal_blc.corr()\n",
    "ax = sns.heatmap(\n",
    "    corr, \n",
    "    vmin=-1, vmax=1, center=0,\n",
    "    cmap=sns.diverging_palette(20, 220, n=200,),#annot=True, #for showing numbers on the heatmap\n",
    "    square=True)\n",
    "ax.set_xticklabels(\n",
    "    ax.get_xticklabels(),\n",
    "    rotation=45,\n",
    "    horizontalalignment='right');"
   ]
  },
  {
   "cell_type": "markdown",
   "metadata": {},
   "source": [
    "We plot the Pearson correlation heatmap and see the correlation of features. In the above heatmap blue means positive, red means negative. The stronger the color, the larger the correlation magnitude.\n",
    "\n",
    "The correlation coefficient has values between -1 to 1\n",
    "\n",
    "- A value closer to 0 implies weaker correlation (exact 0 implying no correlation)\n",
    "- A value closer to 1 implies stronger positive correlation\n",
    "- A value closer to -1 implies stronger negative correlation\n",
    "One of the assumptions of logistic regression is that the independent variables need to be uncorrelated with each other. (If these variables are correlated with each other, then we need to keep only one of them and drop the rest.) Therefore, we don't train a logistic regression for this classification problem.\n",
    "\n",
    "# Machine Learning Models\n",
    "\n",
    "We build a model that predicts which visitors, that visited its website on a certain day, are more likely to convert (buy something) in the next 30 days.\n",
    "We use the AI Notebook service of the Google Cloud Platform to develop the model. <br> <br> <br>\n",
    "\n",
    "convert train and test labels to int."
   ]
  },
  {
   "cell_type": "code",
   "execution_count": 269,
   "metadata": {},
   "outputs": [],
   "source": [
    "y_trainVal_blc = y_trainVal_blc.astype('int')\n",
    "y_test = y_test.astype('int')\n"
   ]
  },
  {
   "cell_type": "markdown",
   "metadata": {},
   "source": [
    "# Evaluation Metrics\n",
    "Given that there are many various evaluation metrics, selecting the correct metric for a problem is a crucial issue. It depends on the dataset, models, nature of problem and what is important for project stakeholders. Here we discuss what evaluation metrics should be used for imbalanced data.\n",
    "\n",
    "## Threshold Metrics\n",
    "\n",
    "threshold metrics like accuracy and F-measure are easy to understand, calculate and interpret. However, their important disadvantage is that they assume the class imbalance observed in the training set is the same as class distribution in the test set and in the real data where the model will be deployed to make predictions. Hence, if the class imbalance in thereal-world data is different from the training set, these metrics can be misleading (Brownlee, 2020)\n",
    "\n",
    "## Ranking Metrics\n",
    "\n",
    "Ranking metrics like ROC-AUC and Precision-Recall AUC.\n",
    "\n",
    "ROC AUC cares equally about positive and negative classes. So, it is an appropriate metric for balanced datasets where we care about true negatives as much as we care about true positives. Consequently, we should not use it when the dataset is imbalanced (Neptune.ai, 2019)\n",
    "\n",
    "PR AUC = Precision-Recall Area Under Curve (average precision)\n",
    "\n",
    "Like the ROC AUC, the area under the Precision-Recall curve can be calculated as a score and then be used to compare classifiers. Precision-Recall AUC focuses on the minority class which makes it suitable for imbalanced classification problems (Brownlee, 2020).\n",
    "\n",
    "Selecting Evaluation Metrics\n",
    "\n",
    "Considering our goal, we don’t want to miss out on a customer who will potentially convert. In other words, misclassifying a potential visitor is more expensive and undesirable for us while we may not suffer much losses if a model misclassifies a visitor that will not convert. Hence, we utilize evaluation metrics appropriate not only for imbalance datasets but also for focusing on decreasing false negatives cases (reducing misclassified potential visitors who will convert). Our main evaluation metrics are PR AUC and recall; besides that we consider accuracy and F2-score too."
   ]
  },
  {
   "cell_type": "markdown",
   "metadata": {},
   "source": [
    "# RANDOM FOREST\n",
    "a forest of randomly created decision trees. Each node in the decision tree works on a random subset of features to calculate the output. The random forest then combines the output of individual decision trees to generate the final output. Random forest leverages the power of multiple decision trees. It does not rely on the feature importance given by a single decision tree.\n",
    "\n",
    "RandomForests: The algorithm builds randomized trees on random samples of the data. It reduces overfitting by averaging out individual predictions (variance reduction)\n",
    "\n",
    "Repeat n_estimators times -> Higher values: more trees, more smoothing.\n",
    "Randomize trees by considering only a random subset of features of size max_features in each node --> Small max_features yields more different trees, more smoothing .\n",
    "## Train\n",
    "\n",
    "- We use grid search for hyperparameter tuning.\n",
    "\n",
    "- We apply 5-fold cross validation for spliting training set and vaidation set.\n",
    "\n",
    "- We calculate different evalution metrics like average precision AUC, ROC AUC, recall, precision, and accuracy."
   ]
  },
  {
   "cell_type": "code",
   "execution_count": 270,
   "metadata": {},
   "outputs": [
    {
     "name": "stdout",
     "output_type": "stream",
     "text": [
      "Fitting 5 folds for each of 24 candidates, totalling 120 fits\n"
     ]
    },
    {
     "name": "stderr",
     "output_type": "stream",
     "text": [
      "[Parallel(n_jobs=-1)]: Using backend LokyBackend with 4 concurrent workers.\n",
      "[Parallel(n_jobs=-1)]: Done  42 tasks      | elapsed:  1.8min\n",
      "[Parallel(n_jobs=-1)]: Done 120 out of 120 | elapsed:  5.1min finished\n",
      "/opt/conda/lib/python3.7/site-packages/sklearn/model_selection/_search.py:765: DataConversionWarning: A column-vector y was passed when a 1d array was expected. Please change the shape of y to (n_samples,), for example using ravel().\n",
      "  self.best_estimator_.fit(X, y, **fit_params)\n"
     ]
    },
    {
     "name": "stdout",
     "output_type": "stream",
     "text": [
      "RandomForestClassifier :\n",
      "RandomForestClassifier(class_weight='balanced', max_features='sqrt',\n",
      "                       min_samples_leaf=10, min_samples_split=100,\n",
      "                       n_estimators=1000, oob_score=True, random_state=0)\n",
      "RandomForestClassifier best_params_:\n",
      "{'bootstrap': True, 'class_weight': 'balanced', 'criterion': 'gini', 'max_features': 'sqrt', 'min_samples_leaf': 10, 'min_samples_split': 100, 'n_estimators': 1000, 'oob_score': True, 'random_state': 0}\n"
     ]
    },
    {
     "data": {
      "text/html": [
       "<div>\n",
       "<style scoped>\n",
       "    .dataframe tbody tr th:only-of-type {\n",
       "        vertical-align: middle;\n",
       "    }\n",
       "\n",
       "    .dataframe tbody tr th {\n",
       "        vertical-align: top;\n",
       "    }\n",
       "\n",
       "    .dataframe thead th {\n",
       "        text-align: right;\n",
       "    }\n",
       "</style>\n",
       "<table border=\"1\" class=\"dataframe\">\n",
       "  <thead>\n",
       "    <tr style=\"text-align: right;\">\n",
       "      <th></th>\n",
       "      <th>mean_fit_time</th>\n",
       "      <th>std_fit_time</th>\n",
       "      <th>mean_score_time</th>\n",
       "      <th>std_score_time</th>\n",
       "      <th>param_bootstrap</th>\n",
       "      <th>param_class_weight</th>\n",
       "      <th>param_criterion</th>\n",
       "      <th>param_max_features</th>\n",
       "      <th>param_min_samples_leaf</th>\n",
       "      <th>param_min_samples_split</th>\n",
       "      <th>...</th>\n",
       "      <th>mean_test_accuracy</th>\n",
       "      <th>std_test_accuracy</th>\n",
       "      <th>rank_test_accuracy</th>\n",
       "      <th>split0_train_accuracy</th>\n",
       "      <th>split1_train_accuracy</th>\n",
       "      <th>split2_train_accuracy</th>\n",
       "      <th>split3_train_accuracy</th>\n",
       "      <th>split4_train_accuracy</th>\n",
       "      <th>mean_train_accuracy</th>\n",
       "      <th>std_train_accuracy</th>\n",
       "    </tr>\n",
       "  </thead>\n",
       "  <tbody>\n",
       "    <tr>\n",
       "      <th>0</th>\n",
       "      <td>8.572158</td>\n",
       "      <td>0.078810</td>\n",
       "      <td>0.891948</td>\n",
       "      <td>0.018945</td>\n",
       "      <td>True</td>\n",
       "      <td>balanced</td>\n",
       "      <td>gini</td>\n",
       "      <td>sqrt</td>\n",
       "      <td>100</td>\n",
       "      <td>200</td>\n",
       "      <td>...</td>\n",
       "      <td>0.855665</td>\n",
       "      <td>0.003033</td>\n",
       "      <td>23</td>\n",
       "      <td>0.860532</td>\n",
       "      <td>0.857323</td>\n",
       "      <td>0.855166</td>\n",
       "      <td>0.860018</td>\n",
       "      <td>0.859479</td>\n",
       "      <td>0.858504</td>\n",
       "      <td>0.001995</td>\n",
       "    </tr>\n",
       "    <tr>\n",
       "      <th>1</th>\n",
       "      <td>5.614890</td>\n",
       "      <td>0.037261</td>\n",
       "      <td>0.603909</td>\n",
       "      <td>0.013266</td>\n",
       "      <td>True</td>\n",
       "      <td>balanced</td>\n",
       "      <td>gini</td>\n",
       "      <td>sqrt</td>\n",
       "      <td>100</td>\n",
       "      <td>200</td>\n",
       "      <td>...</td>\n",
       "      <td>0.855952</td>\n",
       "      <td>0.002795</td>\n",
       "      <td>19</td>\n",
       "      <td>0.861431</td>\n",
       "      <td>0.857143</td>\n",
       "      <td>0.855705</td>\n",
       "      <td>0.860198</td>\n",
       "      <td>0.859659</td>\n",
       "      <td>0.858827</td>\n",
       "      <td>0.002094</td>\n",
       "    </tr>\n",
       "    <tr>\n",
       "      <th>2</th>\n",
       "      <td>8.348026</td>\n",
       "      <td>0.040453</td>\n",
       "      <td>0.876690</td>\n",
       "      <td>0.022460</td>\n",
       "      <td>True</td>\n",
       "      <td>balanced</td>\n",
       "      <td>gini</td>\n",
       "      <td>sqrt</td>\n",
       "      <td>100</td>\n",
       "      <td>100</td>\n",
       "      <td>...</td>\n",
       "      <td>0.855665</td>\n",
       "      <td>0.003033</td>\n",
       "      <td>23</td>\n",
       "      <td>0.860532</td>\n",
       "      <td>0.857323</td>\n",
       "      <td>0.855166</td>\n",
       "      <td>0.860018</td>\n",
       "      <td>0.859479</td>\n",
       "      <td>0.858504</td>\n",
       "      <td>0.001995</td>\n",
       "    </tr>\n",
       "    <tr>\n",
       "      <th>3</th>\n",
       "      <td>5.562114</td>\n",
       "      <td>0.028758</td>\n",
       "      <td>0.603357</td>\n",
       "      <td>0.010025</td>\n",
       "      <td>True</td>\n",
       "      <td>balanced</td>\n",
       "      <td>gini</td>\n",
       "      <td>sqrt</td>\n",
       "      <td>100</td>\n",
       "      <td>100</td>\n",
       "      <td>...</td>\n",
       "      <td>0.855952</td>\n",
       "      <td>0.002795</td>\n",
       "      <td>19</td>\n",
       "      <td>0.861431</td>\n",
       "      <td>0.857143</td>\n",
       "      <td>0.855705</td>\n",
       "      <td>0.860198</td>\n",
       "      <td>0.859659</td>\n",
       "      <td>0.858827</td>\n",
       "      <td>0.002094</td>\n",
       "    </tr>\n",
       "    <tr>\n",
       "      <th>4</th>\n",
       "      <td>8.635044</td>\n",
       "      <td>0.089709</td>\n",
       "      <td>0.931522</td>\n",
       "      <td>0.025834</td>\n",
       "      <td>True</td>\n",
       "      <td>balanced</td>\n",
       "      <td>gini</td>\n",
       "      <td>sqrt</td>\n",
       "      <td>50</td>\n",
       "      <td>200</td>\n",
       "      <td>...</td>\n",
       "      <td>0.866016</td>\n",
       "      <td>0.003210</td>\n",
       "      <td>14</td>\n",
       "      <td>0.874371</td>\n",
       "      <td>0.867026</td>\n",
       "      <td>0.866846</td>\n",
       "      <td>0.871518</td>\n",
       "      <td>0.869003</td>\n",
       "      <td>0.869753</td>\n",
       "      <td>0.002860</td>\n",
       "    </tr>\n",
       "  </tbody>\n",
       "</table>\n",
       "<p>5 rows × 89 columns</p>\n",
       "</div>"
      ],
      "text/plain": [
       "   mean_fit_time  std_fit_time  mean_score_time  std_score_time  \\\n",
       "0       8.572158      0.078810         0.891948        0.018945   \n",
       "1       5.614890      0.037261         0.603909        0.013266   \n",
       "2       8.348026      0.040453         0.876690        0.022460   \n",
       "3       5.562114      0.028758         0.603357        0.010025   \n",
       "4       8.635044      0.089709         0.931522        0.025834   \n",
       "\n",
       "  param_bootstrap param_class_weight param_criterion param_max_features  \\\n",
       "0            True           balanced            gini               sqrt   \n",
       "1            True           balanced            gini               sqrt   \n",
       "2            True           balanced            gini               sqrt   \n",
       "3            True           balanced            gini               sqrt   \n",
       "4            True           balanced            gini               sqrt   \n",
       "\n",
       "  param_min_samples_leaf param_min_samples_split  ... mean_test_accuracy  \\\n",
       "0                    100                     200  ...           0.855665   \n",
       "1                    100                     200  ...           0.855952   \n",
       "2                    100                     100  ...           0.855665   \n",
       "3                    100                     100  ...           0.855952   \n",
       "4                     50                     200  ...           0.866016   \n",
       "\n",
       "  std_test_accuracy rank_test_accuracy split0_train_accuracy  \\\n",
       "0          0.003033                 23              0.860532   \n",
       "1          0.002795                 19              0.861431   \n",
       "2          0.003033                 23              0.860532   \n",
       "3          0.002795                 19              0.861431   \n",
       "4          0.003210                 14              0.874371   \n",
       "\n",
       "   split1_train_accuracy  split2_train_accuracy  split3_train_accuracy  \\\n",
       "0               0.857323               0.855166               0.860018   \n",
       "1               0.857143               0.855705               0.860198   \n",
       "2               0.857323               0.855166               0.860018   \n",
       "3               0.857143               0.855705               0.860198   \n",
       "4               0.867026               0.866846               0.871518   \n",
       "\n",
       "   split4_train_accuracy  mean_train_accuracy  std_train_accuracy  \n",
       "0               0.859479             0.858504            0.001995  \n",
       "1               0.859659             0.858827            0.002094  \n",
       "2               0.859479             0.858504            0.001995  \n",
       "3               0.859659             0.858827            0.002094  \n",
       "4               0.869003             0.869753            0.002860  \n",
       "\n",
       "[5 rows x 89 columns]"
      ]
     },
     "execution_count": 270,
     "metadata": {},
     "output_type": "execute_result"
    }
   ],
   "source": [
    "param_grid = {'n_estimators':[1500, 1000], 'criterion': ['gini','entropy'], 'min_samples_leaf':[100, 50,10],\n",
    "              'min_samples_split': [200,100], 'max_features':['sqrt'],\n",
    "              'class_weight':['balanced'], 'random_state':[0], 'bootstrap':[True], 'oob_score':[True]}\n",
    "\n",
    "# If bootstrap is True, the number of samples to draw from X to train each base estimator.\n",
    "# If None (default), then draw X.shape[0] samples.\n",
    "\n",
    "# oob_score: Whether to use out-of-bag samples to estimate the generalization accuracy.\n",
    "\n",
    "cv_scoring = {'average_precision_PR_AUC':'average_precision', 'AUC': 'roc_auc','recall':'recall', 'precision':'precision','accuracy':'accuracy'}\n",
    "\n",
    "\n",
    "grid = GridSearchCV(RandomForestClassifier(), param_grid= param_grid, cv=5, scoring= cv_scoring, \n",
    "                    refit='average_precision_PR_AUC', return_train_score=True, n_jobs= -1, verbose=1)\n",
    "\n",
    "grid_result = grid.fit(X_trainVal_blc, y_trainVal_blc)\n",
    "                         \n",
    "\n",
    "print(\"RandomForestClassifier :\\n{}\".format( grid.best_estimator_))\n",
    "print(\"RandomForestClassifier best_params_:\\n{}\".format( grid.best_params_))\n",
    "\n",
    "grid_df = pd.DataFrame(grid.cv_results_)\n",
    "grid_df.head()"
   ]
  },
  {
   "cell_type": "markdown",
   "metadata": {},
   "source": [
    "Test the model\n",
    "\n",
    "We trained random forests with different grid parameters and evaluate them on the validation set. Then, the model with the best performance is chosen. We retrain the best model on the whole training set and finally test it on the test set."
   ]
  },
  {
   "cell_type": "code",
   "execution_count": 271,
   "metadata": {},
   "outputs": [
    {
     "name": "stderr",
     "output_type": "stream",
     "text": [
      "/opt/conda/lib/python3.7/site-packages/ipykernel_launcher.py:1: DataConversionWarning: A column-vector y was passed when a 1d array was expected. Please change the shape of y to (n_samples,), for example using ravel().\n",
      "  \"\"\"Entry point for launching an IPython kernel.\n"
     ]
    },
    {
     "name": "stdout",
     "output_type": "stream",
     "text": [
      "f beta=1 score 0.25882728870426586\n",
      "f beta=2 score 0.4566467470966287\n",
      "confusion_matrix: tn, fp, fn, tp [[24027  4579]\n",
      " [   60   810]]\n",
      "recall_score 0.9310344827586207\n",
      "precision_score 0.150306179254036\n",
      "accuracy_score 0.8426177228932012\n",
      "\n",
      " average_precision_score (PR AUC) 0.39313387895930835\n"
     ]
    }
   ],
   "source": [
    "rf_refit = grid.best_estimator_.fit(X_trainVal_blc,y_trainVal_blc)\n",
    "y_pred= rf_refit.predict(X_test)\n",
    "y_probabilities = rf_refit.predict_proba(X_test)[:,1] # for average_precision_score (PR AUC)\n",
    "\n",
    "print('f beta=1 score',fbeta_score(y_test, y_pred, beta=1))\n",
    "print('f beta=2 score',fbeta_score(y_test, y_pred, beta=2))\n",
    "print('confusion_matrix: tn, fp, fn, tp',confusion_matrix(y_test, y_pred))\n",
    "print('recall_score',recall_score(y_test, y_pred))\n",
    "print('precision_score',precision_score(y_test, y_pred))\n",
    "print('accuracy_score',accuracy_score(y_test, y_pred))\n",
    "\n",
    "# Average Precision is a single number used to summarise a Precision-Recall curve:\n",
    "# average_precision_score function expect confidence or probability as second parameter.\n",
    "# Target scores, can either be probability estimates of the positive class\n",
    "\n",
    "print('\\n average_precision_score (PR AUC)',average_precision_score(y_test, y_probabilities))\n"
   ]
  },
  {
   "cell_type": "markdown",
   "metadata": {},
   "source": [
    "## Feature Importance\n",
    "\n",
    "A popular feature of random forest is providing the feature importance. Furthermore, random forests are easy to apply because they require little feature preprocessing and parameter tuning."
   ]
  },
  {
   "cell_type": "code",
   "execution_count": 272,
   "metadata": {},
   "outputs": [
    {
     "data": {
      "image/png": "[encoded data removed]",
      "text/plain": [
       "<Figure size 432x288 with 1 Axes>"
      ]
     },
     "metadata": {
      "needs_background": "light"
     },
     "output_type": "display_data"
    }
   ],
   "source": [
    "importance = rf_refit.feature_importances_\n",
    "# summarize feature importance\n",
    "# for i,v in enumerate(importance):\n",
    "#     print('Feature: %0d, Score: %.5f' % (i,v))\n",
    "# plot feature importance\n",
    "plt.bar(X_test.columns, importance)\n",
    "plt.xticks( rotation='vertical')\n",
    "plt.title(\"Random Forest Feature Importance Scores\")\n",
    "plt.savefig(\"Random Forest Feature Importance Scores\",bbox_inches='tight')\n",
    "plt.show()"
   ]
  },
  {
   "cell_type": "markdown",
   "metadata": {},
   "source": [
    "# XGBoost\n",
    "Gradient boosting machine creates a prediction model in the form of an ensemble of weak decision trees. It trains many decision trees in an additive and sequential way, giving higher weights to the points misclassified by previous trees. In other words, it trains a model, then uses its prediction outcome to increase the weights of datapoints that were badly predicted and decrease the weights of correctly predicted datapoints. Next, it adopts the updated data for training the next decision tree (Singh, 2018).\n",
    "\n",
    "We apply XGBoost for implementing gradient boosting machines which is an efficient and effective library. It uses approximation methods to make it faster than scikit-learnGradientBoostingClassifier. XGBoost has some important parameters. n_estimators is the number of trees it will train. The higher the estimators, the better although, it might start to overfit. To avoid overfitting, we should set a small value to max_depth parameter to apply strong pre-pruning and create very shallow trees. Moreover, XGBoost has a learning rate parameter that controls how strongly the weights are updated in each iteration. Lower rates mean more trees are required to build more complex models.\n",
    "\n",
    "We implement and compare different Gradient boosting machines by using grid search and 5-fold cross validation."
   ]
  },
  {
   "cell_type": "code",
   "execution_count": 275,
   "metadata": {},
   "outputs": [
    {
     "name": "stdout",
     "output_type": "stream",
     "text": [
      "Fitting 5 folds for each of 1 candidates, totalling 5 fits\n"
     ]
    },
    {
     "name": "stderr",
     "output_type": "stream",
     "text": [
      "[Parallel(n_jobs=-1)]: Using backend LokyBackend with 4 concurrent workers.\n",
      "[Parallel(n_jobs=-1)]: Done   5 out of   5 | elapsed: 10.2min finished\n",
      "/opt/conda/lib/python3.7/site-packages/xgboost/sklearn.py:888: UserWarning: The use of label encoder in XGBClassifier is deprecated and will be removed in a future release. To remove this warning, do the following: 1) Pass option use_label_encoder=False when constructing XGBClassifier object; and 2) Encode your labels (y) as integers starting with 0, i.e. 0, 1, 2, ..., [num_class - 1].\n",
      "  warnings.warn(label_encoder_deprecation_msg, UserWarning)\n",
      "/opt/conda/lib/python3.7/site-packages/sklearn/utils/validation.py:72: DataConversionWarning: A column-vector y was passed when a 1d array was expected. Please change the shape of y to (n_samples, ), for example using ravel().\n",
      "  return f(**kwargs)\n"
     ]
    },
    {
     "name": "stdout",
     "output_type": "stream",
     "text": [
      "[09:44:08] WARNING: ../src/learner.cc:1061: Starting in XGBoost 1.3.0, the default evaluation metric used with the objective 'binary:logistic' was changed from 'error' to 'logloss'. Explicitly set eval_metric if you'd like to restore the old behavior.\n",
      "XGBClassifier :\n",
      "XGBClassifier(base_score=0.5, booster='gbtree', colsample_bylevel=1,\n",
      "              colsample_bynode=1, colsample_bytree=0.6, gamma=1, gpu_id=-1,\n",
      "              importance_type='gain', interaction_constraints='',\n",
      "              learning_rate=0.1, max_delta_step=0, max_depth=3,\n",
      "              min_child_weight=1, missing=nan, monotone_constraints='()',\n",
      "              n_estimators=1200, n_jobs=4, num_parallel_tree=1, random_state=0,\n",
      "              reg_alpha=0, reg_lambda=1, scale_pos_weight=1, seed=0,\n",
      "              subsample=0.6, tree_method='exact', validate_parameters=1,\n",
      "              verbosity=None)\n",
      "XGBClassifier best_params_:\n",
      "{'colsample_bytree': 0.6, 'gamma': 1, 'learning_rate': 0.1, 'max_depth': 3, 'min_child_weight': 1, 'n_estimators': 1200, 'random_state': 0, 'subsample': 0.6}\n"
     ]
    }
   ],
   "source": [
    "param_grid = {'max_depth': [3], 'n_estimators': [1200], 'learning_rate': [ 0.01, 0.1],\n",
    "              'gamma': [ 1],'min_child_weight': [1], 'subsample': [0.6,0.8],\n",
    "              'colsample_bytree': [0.6],'random_state':[0]}\n",
    "              \n",
    "\n",
    "\n",
    "cv_scoring = {'average_precision_PR_AUC':'average_precision', 'AUC': 'roc_auc','recall':'recall', 'precision':'precision','accuracy':'accuracy'}\n",
    "\n",
    "xgb = XGBClassifier(objective= 'binary:logistic',seed=0)\n",
    "#     nthread=4, silent=True\n",
    "\n",
    "\n",
    "grid_x = GridSearchCV(xgb, param_grid= param_grid, cv=5, scoring= cv_scoring, \n",
    "                    refit='average_precision_PR_AUC', return_train_score=True, n_jobs= -1, verbose=1)\n",
    "\n",
    "grid_result = grid_x.fit(X_trainVal_blc, y_trainVal_blc)\n",
    "                         \n",
    "print(\"XGBClassifier :\\n{}\".format( grid_x.best_estimator_))\n",
    "print(\"XGBClassifier best_params_:\\n{}\".format( grid_x.best_params_))\n",
    "\n",
    "grid_x_df = pd.DataFrame(grid_x.cv_results_)"
   ]
  },
  {
   "cell_type": "markdown",
   "metadata": {},
   "source": [
    "The training procedure is the same as in the previous models. We trained the gradient boosting model with different grid parameters and evaluated them on the validation set. Then, the model with the best performance is chosen. We retrain the best model on the whole training set and finally test it on the test set."
   ]
  },
  {
   "cell_type": "code",
   "execution_count": 276,
   "metadata": {},
   "outputs": [
    {
     "name": "stdout",
     "output_type": "stream",
     "text": [
      "[10:08:13] WARNING: ../src/learner.cc:1061: Starting in XGBoost 1.3.0, the default evaluation metric used with the objective 'binary:logistic' was changed from 'error' to 'logloss'. Explicitly set eval_metric if you'd like to restore the old behavior.\n",
      "f beta=1 score 0.2632606573381061\n",
      "f beta=2 score 0.46196893558702606\n",
      "confusion_matrix: tn, fp, fn, tp [[24139  4467]\n",
      " [   61   809]]\n",
      "recall_score 0.9298850574712644\n",
      "precision_score 0.15333586050037906\n",
      "accuracy_score 0.8463834984394083\n",
      "\n",
      " average_precision_score (PR AUC) 0.3657907900976537\n"
     ]
    }
   ],
   "source": [
    "xgb_refit = grid_x.best_estimator_.fit(X_trainVal_blc,y_trainVal_blc)\n",
    "y_pred= xgb_refit.predict(X_test)\n",
    "y_probabilities = xgb_refit.predict_proba(X_test)[:,1] # for average_precision_score\n",
    "\n",
    "\n",
    "print('f beta=1 score',fbeta_score(y_test, y_pred, beta=1))\n",
    "print('f beta=2 score',fbeta_score(y_test, y_pred, beta=2))\n",
    "print('confusion_matrix: tn, fp, fn, tp',confusion_matrix(y_test, y_pred))\n",
    "print('recall_score',recall_score(y_test, y_pred))\n",
    "print('precision_score',precision_score(y_test, y_pred))\n",
    "print('accuracy_score',accuracy_score(y_test, y_pred))\n",
    "\n",
    "# Average Precision is a single number used to summarise a Precision-Recall curve:\n",
    "# average_precision_score function expect confidence or probability as second parameter.\n",
    "# Target scores, can either be probability estimates of the positive class\n",
    "\n",
    "print('\\n average_precision_score (PR AUC)',average_precision_score(y_test, y_probabilities))"
   ]
  },
  {
   "cell_type": "markdown",
   "metadata": {},
   "source": [
    "## Feature Importance"
   ]
  },
  {
   "cell_type": "code",
   "execution_count": 277,
   "metadata": {},
   "outputs": [
    {
     "data": {
      "image/png": "[encoded data removed]",
      "text/plain": [
       "<Figure size 432x288 with 1 Axes>"
      ]
     },
     "metadata": {
      "needs_background": "light"
     },
     "output_type": "display_data"
    }
   ],
   "source": [
    "# get importance\n",
    "importance = xgb_refit.feature_importances_\n",
    "\n",
    "plt.bar(X_test.columns, importance)\n",
    "plt.xticks( rotation='vertical')\n",
    "plt.title(\"Gradient Boosting Feature Importance Scores\")\n",
    "plt.savefig(\"Gradient Boosting Feature Importance Scores\",bbox_inches='tight')\n",
    "plt.show()"
   ]
  },
  {
   "cell_type": "markdown",
   "metadata": {},
   "source": [
    "# Batch prediction\n",
    "read the last day of data as a batch"
   ]
  },
  {
   "cell_type": "code",
   "execution_count": 279,
   "metadata": {},
   "outputs": [],
   "source": [
    "%%bigquery --project winged-tower-295515 batch_df\n",
    "\n",
    "SELECT\n",
    "  fullVisitorId, date, \n",
    "  visitStartTime, \n",
    "  visitNumber,\n",
    "  IF(totals.transactions IS NULL, 0, 1) AS purchase,  \n",
    "  \n",
    "  COUNTIF(IF(totals.transactions IS NULL, FALSE, TRUE))\n",
    "  OVER (\n",
    "    PARTITION BY fullVisitorId \n",
    "    ORDER BY visitStartTime\n",
    "    RANGE BETWEEN CURRENT ROW AND 2592000 FOLLOWING\n",
    "  ) AS total_purchases_next30days,\n",
    "  \n",
    "  IFNULL(totals.bounces, 0) AS bounces,\n",
    "  IFNULL(totals.hits, 0) AS hits,\n",
    "  IFNULL(totals.pageviews, 0) AS pageviews,\n",
    "  IFNULL(totals.timeOnSite, 0) AS time_on_site,\n",
    "  IFNULL(totals.visits, 0) AS visits_interaction,\n",
    "\n",
    "  device.isMobile AS is_mobile,\n",
    "  trafficSource.isTrueDirect AS is_source_direct,\n",
    "  IFNULL(geoNetwork.country, \"\") AS country,\n",
    "  channelGrouping\n",
    "\n",
    "\n",
    "FROM\n",
    "  `bigquery-public-data.google_analytics_sample.ga_sessions_20170801`"
   ]
  },
  {
   "cell_type": "code",
   "execution_count": 280,
   "metadata": {},
   "outputs": [
    {
     "data": {
      "text/plain": [
       "(2556, 15)"
      ]
     },
     "execution_count": 280,
     "metadata": {},
     "output_type": "execute_result"
    }
   ],
   "source": [
    "batch_df.shape"
   ]
  },
  {
   "cell_type": "markdown",
   "metadata": {},
   "source": [
    "# Preprocess Batch Data"
   ]
  },
  {
   "cell_type": "code",
   "execution_count": 281,
   "metadata": {},
   "outputs": [
    {
     "data": {
      "text/plain": [
       "array([False,  True])"
      ]
     },
     "execution_count": 281,
     "metadata": {},
     "output_type": "execute_result"
    }
   ],
   "source": [
    "label= batch_df['total_purchases_next30days']>0\n",
    "batch_df.insert(7,'label',label)\n",
    "\n",
    "# Replace NAN values with False\n",
    "batch_df.is_source_direct.replace(to_replace= np.nan, value= False, inplace=True)\n",
    "batch_df.is_source_direct.unique()"
   ]
  },
  {
   "cell_type": "code",
   "execution_count": 282,
   "metadata": {},
   "outputs": [],
   "source": [
    "#Convert categorical columns to dummies\n",
    "batch_df = pd.get_dummies(batch_df, columns=['channelGrouping'], prefix='channelGrouping_type')\n",
    "# batch_df.drop(columns=['channelGrouping_type_(Other)'], inplace=True)"
   ]
  },
  {
   "cell_type": "code",
   "execution_count": 283,
   "metadata": {},
   "outputs": [],
   "source": [
    "y_batch= batch_df['label']\n",
    "y_batch = y_batch.astype('int')\n",
    "\n",
    "X_batch= batch_df.drop(columns=['label','purchase','total_purchases_next30days','fullVisitorId','visitStartTime','date'], inplace=False)"
   ]
  },
  {
   "cell_type": "code",
   "execution_count": 284,
   "metadata": {},
   "outputs": [],
   "source": [
    "#Convert categorical 'country' column to dummies\n",
    "all_countries_array= X_batch['country'].unique()\n",
    "all_countries_test = set(all_countries_array)\n",
    "other_countries_in_testset = list(all_countries_test - top_countries)\n",
    "\n",
    "X_batch.replace(to_replace= other_countries_in_testset, value='others', inplace=True)\n",
    "\n",
    "X_batch = pd.get_dummies(X_batch, columns=['country'], prefix='country_is')\n",
    "X_batch.drop(columns=['country_is_others'], inplace=True)"
   ]
  },
  {
   "cell_type": "code",
   "execution_count": 285,
   "metadata": {},
   "outputs": [
    {
     "data": {
      "text/plain": [
       "(2556, 26)"
      ]
     },
     "execution_count": 285,
     "metadata": {},
     "output_type": "execute_result"
    }
   ],
   "source": [
    "X_batch.shape"
   ]
  }
 ],
 "metadata": {
  "environment": {
   "name": "common-cpu.m59",
   "type": "gcloud",
   "uri": "gcr.io/deeplearning-platform-release/base-cpu:m59"
  },
  "kernelspec": {
   "display_name": "Python 3",
   "language": "python",
   "name": "python3"
  },
  "language_info": {
   "codemirror_mode": {
    "name": "ipython",
    "version": 3
   },
   "file_extension": ".py",
   "mimetype": "text/x-python",
   "name": "python",
   "nbconvert_exporter": "python",
   "pygments_lexer": "ipython3",
   "version": "3.7.5"
  }
 },
 "nbformat": 4,
 "nbformat_minor": 4
}
